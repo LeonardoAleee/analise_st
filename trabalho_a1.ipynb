{
 "cells": [
  {
   "cell_type": "markdown",
   "id": "2e006aff",
   "metadata": {},
   "source": [
    "# Trabalho A1 - Análise de Séries Temporais\n",
    "\n",
    "## Instruções do Trabalho\n",
    "\n",
    "Utilize o conjunto de dados `data.csv` disponibilizado no e-class. O arquivo contém as variáveis `week` e `volume`. Seu objetivo é modelar a variável `volume` utilizando os conceitos aprendidos em sala de aula.\n",
    "\n",
    "**Linguagem de Programação:** Você pode utilizar Python ou R como linguagem de programação.\n",
    "\n",
    "## Requisitos do Trabalho\n",
    "\n",
    "Seu trabalho deve conter:\n",
    "\n",
    "* **Discussão sobre métricas e métodos de avaliação**\n",
    "\n",
    "* **Discussão sobre a necessidade de transformação de variáveis**\n",
    "\n",
    "* **Discussão sobre a necessidade de decomposição entre tendência e sazonalidade**\n",
    "\n",
    "* **Análises de resíduos e ajuste dos modelos**\n",
    "\n",
    "* **Modelos baselines**\n",
    "\n",
    "* **Modelos de regressão linear múltipla** utilizando co-variáveis criadas baseadas nas variáveis `week` e `volume`\n",
    "\n",
    "## Entrega\n",
    "\n",
    "Sua entrega deve conter:\n",
    "- Link para um repositório no GitHub contendo o código\n",
    "- Relatório de no máximo 5 páginas contendo um resumo executivo das suas análises\n"
   ]
  },
  {
   "cell_type": "markdown",
   "id": "1fd667b3",
   "metadata": {
    "vscode": {
     "languageId": "r"
    }
   },
   "source": [
    "## Contexto\n",
    "\n",
    "Ao longo do curso será disponibilizado mais variáveis para melhorar os resultados obtidos na A1."
   ]
  },
  {
   "cell_type": "markdown",
   "id": "e7b65b60",
   "metadata": {},
   "source": [
    "## Bibliotecas"
   ]
  },
  {
   "cell_type": "code",
   "execution_count": 16,
   "id": "9c7bce26",
   "metadata": {},
   "outputs": [],
   "source": [
    "import pandas as pd\n",
    "import matplotlib.pyplot as plt\n",
    "import numpy as np\n",
    "from sktime.forecasting.naive import NaiveForecaster\n",
    "from sktime.forecasting.base import ForecastingHorizon\n",
    "from sktime.performance_metrics.forecasting import (\n",
    "    mean_absolute_error, mean_squared_error,\n",
    "    mean_absolute_percentage_error, MeanAbsoluteScaledError,\n",
    ")"
   ]
  },
  {
   "cell_type": "markdown",
   "id": "18e05002",
   "metadata": {
    "vscode": {
     "languageId": "r"
    }
   },
   "source": [
    "## Dados"
   ]
  },
  {
   "cell_type": "code",
   "execution_count": 9,
   "id": "b68c2853",
   "metadata": {},
   "outputs": [],
   "source": [
    "prison = pd.read_csv(\"data.csv\")"
   ]
  },
  {
   "cell_type": "code",
   "execution_count": 21,
   "id": "61cbad8b",
   "metadata": {},
   "outputs": [
    {
     "data": {
      "text/plain": [
       "(        week  volume\n",
       " 0 2022-10-31    0.33\n",
       " 1 2022-11-07    0.47\n",
       " 2 2022-11-14    0.32\n",
       " 3 2022-11-21    1.69\n",
       " 4 2022-11-28    1.23\n",
       " 5 2022-12-05    0.77,\n",
       "           week  volume\n",
       " 144 2025-08-04   13.43\n",
       " 145 2025-08-11   13.60\n",
       " 146 2025-08-18   15.20\n",
       " 147 2025-08-25   16.24\n",
       " 148 2025-09-01   13.43\n",
       " 149 2025-09-08   16.59)"
      ]
     },
     "execution_count": 21,
     "metadata": {},
     "output_type": "execute_result"
    }
   ],
   "source": [
    "prison.head(6)"
   ]
  },
  {
   "cell_type": "code",
   "execution_count": 22,
   "id": "9ed3e9f6",
   "metadata": {},
   "outputs": [
    {
     "data": {
      "text/html": [
       "<div>\n",
       "<style scoped>\n",
       "    .dataframe tbody tr th:only-of-type {\n",
       "        vertical-align: middle;\n",
       "    }\n",
       "\n",
       "    .dataframe tbody tr th {\n",
       "        vertical-align: top;\n",
       "    }\n",
       "\n",
       "    .dataframe thead th {\n",
       "        text-align: right;\n",
       "    }\n",
       "</style>\n",
       "<table border=\"1\" class=\"dataframe\">\n",
       "  <thead>\n",
       "    <tr style=\"text-align: right;\">\n",
       "      <th></th>\n",
       "      <th>week</th>\n",
       "      <th>volume</th>\n",
       "    </tr>\n",
       "  </thead>\n",
       "  <tbody>\n",
       "    <tr>\n",
       "      <th>144</th>\n",
       "      <td>2025-08-04</td>\n",
       "      <td>13.43</td>\n",
       "    </tr>\n",
       "    <tr>\n",
       "      <th>145</th>\n",
       "      <td>2025-08-11</td>\n",
       "      <td>13.60</td>\n",
       "    </tr>\n",
       "    <tr>\n",
       "      <th>146</th>\n",
       "      <td>2025-08-18</td>\n",
       "      <td>15.20</td>\n",
       "    </tr>\n",
       "    <tr>\n",
       "      <th>147</th>\n",
       "      <td>2025-08-25</td>\n",
       "      <td>16.24</td>\n",
       "    </tr>\n",
       "    <tr>\n",
       "      <th>148</th>\n",
       "      <td>2025-09-01</td>\n",
       "      <td>13.43</td>\n",
       "    </tr>\n",
       "    <tr>\n",
       "      <th>149</th>\n",
       "      <td>2025-09-08</td>\n",
       "      <td>16.59</td>\n",
       "    </tr>\n",
       "  </tbody>\n",
       "</table>\n",
       "</div>"
      ],
      "text/plain": [
       "          week  volume\n",
       "144 2025-08-04   13.43\n",
       "145 2025-08-11   13.60\n",
       "146 2025-08-18   15.20\n",
       "147 2025-08-25   16.24\n",
       "148 2025-09-01   13.43\n",
       "149 2025-09-08   16.59"
      ]
     },
     "execution_count": 22,
     "metadata": {},
     "output_type": "execute_result"
    }
   ],
   "source": [
    "prison.tail(6)"
   ]
  },
  {
   "cell_type": "code",
   "execution_count": 11,
   "id": "48f3daa0",
   "metadata": {},
   "outputs": [],
   "source": [
    "# Converte a coluna \"week\" para datetime\n",
    "prison[\"week\"] = pd.to_datetime(prison[\"week\"])"
   ]
  },
  {
   "cell_type": "code",
   "execution_count": 12,
   "id": "cb9b6bcb",
   "metadata": {},
   "outputs": [
    {
     "data": {
      "image/png": "[encoded data removed]",
      "text/plain": [
       "<Figure size 1000x600 with 1 Axes>"
      ]
     },
     "metadata": {},
     "output_type": "display_data"
    }
   ],
   "source": [
    "# Criar o gráfico\n",
    "plt.figure(figsize=(10, 6))\n",
    "plt.plot(prison[\"week\"], prison[\"volume\"], linestyle='-', marker='', color='black')\n",
    "\n",
    "# Labels e título\n",
    "plt.xlabel(\"Semana\")\n",
    "plt.ylabel(\"Volume\")\n",
    "plt.title(\"Volume ao Longo do Tempo\")\n",
    "\n",
    "# Estilo minimalista\n",
    "plt.grid(True, linestyle=\"--\", alpha=0.5)\n",
    "plt.tight_layout()\n",
    "plt.show()"
   ]
  },
  {
   "cell_type": "markdown",
   "id": "42b4920f",
   "metadata": {},
   "source": [
    "## Baselines"
   ]
  },
  {
   "cell_type": "code",
   "execution_count": 17,
   "id": "bf363829",
   "metadata": {},
   "outputs": [
    {
     "data": {
      "text/html": [
       "<div>\n",
       "<style scoped>\n",
       "    .dataframe tbody tr th:only-of-type {\n",
       "        vertical-align: middle;\n",
       "    }\n",
       "\n",
       "    .dataframe tbody tr th {\n",
       "        vertical-align: top;\n",
       "    }\n",
       "\n",
       "    .dataframe thead th {\n",
       "        text-align: right;\n",
       "    }\n",
       "</style>\n",
       "<table border=\"1\" class=\"dataframe\">\n",
       "  <thead>\n",
       "    <tr style=\"text-align: right;\">\n",
       "      <th></th>\n",
       "      <th>model</th>\n",
       "      <th>MAE</th>\n",
       "      <th>RMSE</th>\n",
       "      <th>MAPE_%</th>\n",
       "      <th>MASE</th>\n",
       "    </tr>\n",
       "  </thead>\n",
       "  <tbody>\n",
       "    <tr>\n",
       "      <th>3</th>\n",
       "      <td>drift</td>\n",
       "      <td>2.893644</td>\n",
       "      <td>3.671492</td>\n",
       "      <td>39.181832</td>\n",
       "      <td>0.836418</td>\n",
       "    </tr>\n",
       "    <tr>\n",
       "      <th>2</th>\n",
       "      <td>snaive</td>\n",
       "      <td>4.082692</td>\n",
       "      <td>4.621097</td>\n",
       "      <td>59.578569</td>\n",
       "      <td>1.180117</td>\n",
       "    </tr>\n",
       "    <tr>\n",
       "      <th>1</th>\n",
       "      <td>naive</td>\n",
       "      <td>3.762692</td>\n",
       "      <td>4.856629</td>\n",
       "      <td>44.401822</td>\n",
       "      <td>1.087620</td>\n",
       "    </tr>\n",
       "    <tr>\n",
       "      <th>0</th>\n",
       "      <td>mean</td>\n",
       "      <td>5.484937</td>\n",
       "      <td>6.747853</td>\n",
       "      <td>61.471615</td>\n",
       "      <td>1.585441</td>\n",
       "    </tr>\n",
       "  </tbody>\n",
       "</table>\n",
       "</div>"
      ],
      "text/plain": [
       "    model       MAE      RMSE     MAPE_%      MASE\n",
       "3   drift  2.893644  3.671492  39.181832  0.836418\n",
       "2  snaive  4.082692  4.621097  59.578569  1.180117\n",
       "1   naive  3.762692  4.856629  44.401822  1.087620\n",
       "0    mean  5.484937  6.747853  61.471615  1.585441"
      ]
     },
     "execution_count": 17,
     "metadata": {},
     "output_type": "execute_result"
    }
   ],
   "source": [
    "# série semanal com frequência explícita\n",
    "y = prison.sort_values(\"week\").set_index(\"week\")[\"volume\"]\n",
    "y = y.asfreq(pd.infer_freq(y.index) or \"W\")\n",
    "\n",
    "h = 52  # horizonte (altere para 4 se quiser curto prazo)\n",
    "y_tr, y_te = y.iloc[:-h], y.iloc[-h:]\n",
    "fh = ForecastingHorizon(np.arange(1, h + 1), is_relative=True)\n",
    "\n",
    "def fit_pred(strategy, sp=1):\n",
    "    f = NaiveForecaster(strategy=strategy, sp=sp)\n",
    "    f.fit(y_tr)\n",
    "    return f.predict(fh)\n",
    "\n",
    "preds = {\n",
    "    \"mean\":  fit_pred(\"mean\", sp=1),\n",
    "    \"naive\": fit_pred(\"last\", sp=1),\n",
    "    \"snaive\": fit_pred(\"last\", sp=52),   # sazonal\n",
    "    \"drift\": fit_pred(\"drift\", sp=1),\n",
    "}\n",
    "\n",
    "mase_metric = MeanAbsoluteScaledError(sp=52)\n",
    "\n",
    "rows = []\n",
    "for name, yhat in preds.items():\n",
    "    rows.append({\n",
    "        \"model\": name,\n",
    "        \"MAE\":  mean_absolute_error(y_te, yhat),\n",
    "        \"RMSE\": mean_squared_error(y_te, yhat, square_root=True),\n",
    "        \"MAPE_%\": mean_absolute_percentage_error(y_te, yhat) * 100,\n",
    "        \"MASE\": mase_metric(y_te, yhat, y_train=y_tr),\n",
    "    })\n",
    "\n",
    "metrics_sktime = pd.DataFrame(rows).sort_values(\"RMSE\")\n",
    "metrics_sktime"
   ]
  }
 ],
 "metadata": {
  "kernelspec": {
   "display_name": "Python 3",
   "language": "python",
   "name": "python3"
  },
  "language_info": {
   "codemirror_mode": {
    "name": "ipython",
    "version": 3
   },
   "file_extension": ".py",
   "mimetype": "text/x-python",
   "name": "python",
   "nbconvert_exporter": "python",
   "pygments_lexer": "ipython3",
   "version": "3.13.1"
  }
 },
 "nbformat": 4,
 "nbformat_minor": 5
}
